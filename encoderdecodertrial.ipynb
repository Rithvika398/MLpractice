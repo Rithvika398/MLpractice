{
  "nbformat": 4,
  "nbformat_minor": 0,
  "metadata": {
    "colab": {
      "name": "encoderdecodertrial.ipynb",
      "version": "0.3.2",
      "provenance": [],
      "include_colab_link": true
    },
    "kernelspec": {
      "name": "python3",
      "display_name": "Python 3"
    }
  },
  "cells": [
    {
      "cell_type": "markdown",
      "metadata": {
        "id": "view-in-github",
        "colab_type": "text"
      },
      "source": [
        "<a href=\"https://colab.research.google.com/github/Rithvika398/MLpractice/blob/master/encoderdecodertrial.ipynb\" target=\"_parent\"><img src=\"https://colab.research.google.com/assets/colab-badge.svg\" alt=\"Open In Colab\"/></a>"
      ]
    },
    {
      "metadata": {
        "id": "w5d5DHdrEkXm",
        "colab_type": "code",
        "outputId": "7bc5d8d3-9423-49b1-d01a-bf81dedc1bb9",
        "colab": {
          "base_uri": "https://localhost:8080/",
          "height": 70
        }
      },
      "cell_type": "code",
      "source": [
        "import numpy as np #matrix math \n",
        "import tensorflow as tf #machine learning\n",
        "#import helpers #for formatting data into batches and generating random sequence data\n",
        "\n",
        "tf.reset_default_graph() #Clears the default graph stack and resets the global default graph.\n",
        "sess = tf.InteractiveSession() #initializes a tensorflow session"
      ],
      "execution_count": 118,
      "outputs": [
        {
          "output_type": "stream",
          "text": [
            "/usr/local/lib/python3.6/dist-packages/tensorflow/python/client/session.py:1702: UserWarning: An interactive session is already active. This can cause out-of-memory errors in some cases. You must explicitly call `InteractiveSession.close()` to release resources held by the other session(s).\n",
            "  warnings.warn('An interactive session is already active. This can '\n"
          ],
          "name": "stderr"
        }
      ]
    },
    {
      "metadata": {
        "id": "5z_wvmoZGyko",
        "colab_type": "code",
        "colab": {}
      },
      "cell_type": "code",
      "source": [
        "\n",
        "import numpy as np\n",
        "\n",
        "def batchfunc(inputs, max_sequence_length=None):\n",
        "    \"\"\"\n",
        "    Args:\n",
        "        inputs:\n",
        "            list of sentences (integer lists)\n",
        "        max_sequence_length:\n",
        "            integer specifying how large should `max_time` dimension be.\n",
        "            If None, maximum sequence length would be used\n",
        "    \n",
        "    Outputs:\n",
        "        inputs_time_major:\n",
        "            input sentences transformed into time-major matrix \n",
        "            (shape [max_time, batch_size]) padded with 0s\n",
        "        sequence_lengths:\n",
        "            batch-sized list of integers specifying amount of active \n",
        "            time steps in each input sequence\n",
        "    \"\"\"\n",
        "    \n",
        "    sequence_lengths = [len(seq) for seq in inputs]\n",
        "    batch_size = len(inputs)\n",
        "    \n",
        "    if max_sequence_length is None:\n",
        "        max_sequence_length = max(sequence_lengths)\n",
        "    \n",
        "    inputs_batch_major = np.zeros(shape=[batch_size, max_sequence_length], dtype=np.int32) # == PAD\n",
        "    \n",
        "    for i, seq in enumerate(inputs):\n",
        "        for j, element in enumerate(seq):\n",
        "            inputs_batch_major[i, j] = element\n",
        "\n",
        "    # [batch_size, max_time] -> [max_time, batch_size]\n",
        "    inputs_time_major = inputs_batch_major.swapaxes(0, 1)\n",
        "\n",
        "    return inputs_time_major, sequence_lengths\n",
        "\n",
        "\n",
        "def random_sequences(length_from, length_to,\n",
        "                     vocab_lower, vocab_upper,\n",
        "                     batch_size):\n",
        "    \"\"\" Generates batches of random integer sequences,\n",
        "        sequence length in [length_from, length_to],\n",
        "        vocabulary in [vocab_lower, vocab_upper]\n",
        "    \"\"\"\n",
        "    if length_from > length_to:\n",
        "            raise ValueError('length_from > length_to')\n",
        "\n",
        "    def random_length():\n",
        "        if length_from == length_to:\n",
        "            return length_from\n",
        "        return np.random.randint(length_from, length_to + 1)\n",
        "    \n",
        "    while True:\n",
        "        yield [\n",
        "            np.random.randint(low=vocab_lower,\n",
        "                              high=vocab_upper,\n",
        "                              size=random_length()).tolist()\n",
        "            for _ in range(batch_size)\n",
        "        ]\n"
      ],
      "execution_count": 0,
      "outputs": []
    },
    {
      "metadata": {
        "id": "LwpEg8b5EoeY",
        "colab_type": "code",
        "outputId": "fdcd992c-57c8-4afc-ee00-ab025b0b5dc8",
        "colab": {
          "base_uri": "https://localhost:8080/",
          "height": 34
        }
      },
      "cell_type": "code",
      "source": [
        "tf.__version__"
      ],
      "execution_count": 120,
      "outputs": [
        {
          "output_type": "execute_result",
          "data": {
            "text/plain": [
              "'1.12.0'"
            ]
          },
          "metadata": {
            "tags": []
          },
          "execution_count": 120
        }
      ]
    },
    {
      "metadata": {
        "id": "7TV_dZQePL2N",
        "colab_type": "code",
        "colab": {}
      },
      "cell_type": "code",
      "source": [
        "#First critical thing to decide: vocabulary size.\n",
        "#Dynamic RNN models can be adapted to different batch sizes \n",
        "#and sequence lengths without retraining \n",
        "#(e.g. by serializing model parameters and Graph definitions via tf.train.Saver), \n",
        "#but changing vocabulary size requires retraining the model.\n",
        "\n",
        "PAD = 0\n",
        "EOS = 1\n",
        "\n",
        "vocab_size = 10\n",
        "input_embedding_size = 20 #character length\n",
        "\n",
        "encoder_hidden_units = 20 #num neurons\n",
        "decoder_hidden_units = encoder_hidden_units * 2 #in original paper, they used same number of neurons for both encoder\n",
        "#and decoder, but we use twice as many so decoded output is different, the target value is the original input \n",
        "#in this example"
      ],
      "execution_count": 0,
      "outputs": []
    },
    {
      "metadata": {
        "id": "7wTdnMZ2P_zW",
        "colab_type": "code",
        "colab": {}
      },
      "cell_type": "code",
      "source": [
        "#input placehodlers\n",
        "encoder_inputs = tf.placeholder(shape=(None, None), dtype=tf.string, name='encoder_inputs')\n",
        "#contains the lengths for each of the sequence in the batch, we will pad so all the same\n",
        "#if you don't want to pad, check out dynamic memory networks to input variable length sequences\n",
        "encoder_inputs_length = tf.placeholder(shape=(None,), dtype=tf.string, name='encoder_inputs_length')\n",
        "decoder_targets = tf.placeholder(shape=(None, None), dtype=tf.string, name='decoder_targets')"
      ],
      "execution_count": 0,
      "outputs": []
    },
    {
      "metadata": {
        "id": "1DsqIAMaQToc",
        "colab_type": "code",
        "colab": {}
      },
      "cell_type": "code",
      "source": [
        "embeddings = tf.Variable(tf.random_uniform([vocab_size, input_embedding_size], -1.0, 1.0), dtype=tf.float32)\n",
        "\n",
        "#this thing could get huge in a real world application\n",
        "encoder_inputs_embedded = tf.nn.embedding_lookup(embeddings, encoder_inputs)"
      ],
      "execution_count": 0,
      "outputs": []
    },
    {
      "metadata": {
        "id": "b-4Jmx5fSlDg",
        "colab_type": "code",
        "colab": {}
      },
      "cell_type": "code",
      "source": [
        "from tensorflow.python.ops.rnn_cell import LSTMCell, LSTMStateTuple\n"
      ],
      "execution_count": 0,
      "outputs": []
    },
    {
      "metadata": {
        "id": "x9iaO_tySsC4",
        "colab_type": "code",
        "colab": {}
      },
      "cell_type": "code",
      "source": [
        "encoder_cell = LSTMCell(encoder_hidden_units)\n"
      ],
      "execution_count": 0,
      "outputs": []
    },
    {
      "metadata": {
        "id": "jm5uoyJMSxS-",
        "colab_type": "code",
        "colab": {}
      },
      "cell_type": "code",
      "source": [
        "((encoder_fw_outputs,\n",
        "  encoder_bw_outputs),\n",
        " (encoder_fw_final_state,\n",
        "  encoder_bw_final_state)) = (\n",
        "    tf.nn.bidirectional_dynamic_rnn(cell_fw=encoder_cell,\n",
        "                                    cell_bw=encoder_cell,\n",
        "                                    inputs=encoder_inputs_embedded,\n",
        "                                    sequence_length=encoder_inputs_length,\n",
        "                                    dtype=tf.float32, time_major=True)\n",
        ")"
      ],
      "execution_count": 0,
      "outputs": []
    },
    {
      "metadata": {
        "id": "PGvvq25pC8RM",
        "colab_type": "code",
        "colab": {
          "base_uri": "https://localhost:8080/",
          "height": 34
        },
        "outputId": "92157f97-88c9-4e7b-ca35-d24582c76975"
      },
      "cell_type": "code",
      "source": [
        "encoder_fw_outputs\n"
      ],
      "execution_count": 128,
      "outputs": [
        {
          "output_type": "execute_result",
          "data": {
            "text/plain": [
              "<tf.Tensor 'bidirectional_rnn_1/fw/fw/TensorArrayStack/TensorArrayGatherV3:0' shape=(?, ?, 20) dtype=float32>"
            ]
          },
          "metadata": {
            "tags": []
          },
          "execution_count": 128
        }
      ]
    },
    {
      "metadata": {
        "id": "vXfi_cfYFp3-",
        "colab_type": "code",
        "colab": {
          "base_uri": "https://localhost:8080/",
          "height": 34
        },
        "outputId": "3702c940-ea55-4f5d-bb4d-979c108eaaff"
      },
      "cell_type": "code",
      "source": [
        "encoder_bw_outputs\n"
      ],
      "execution_count": 129,
      "outputs": [
        {
          "output_type": "execute_result",
          "data": {
            "text/plain": [
              "<tf.Tensor 'ReverseSequence:0' shape=(?, ?, 20) dtype=float32>"
            ]
          },
          "metadata": {
            "tags": []
          },
          "execution_count": 129
        }
      ]
    },
    {
      "metadata": {
        "id": "tA5x8VCcFtXr",
        "colab_type": "code",
        "colab": {
          "base_uri": "https://localhost:8080/",
          "height": 54
        },
        "outputId": "e9b443f0-bffe-4c9f-bbd4-925c6860f516"
      },
      "cell_type": "code",
      "source": [
        "encoder_fw_final_state\n"
      ],
      "execution_count": 130,
      "outputs": [
        {
          "output_type": "execute_result",
          "data": {
            "text/plain": [
              "LSTMStateTuple(c=<tf.Tensor 'bidirectional_rnn_1/fw/fw/while/Exit_3:0' shape=(?, 20) dtype=float32>, h=<tf.Tensor 'bidirectional_rnn_1/fw/fw/while/Exit_4:0' shape=(?, 20) dtype=float32>)"
            ]
          },
          "metadata": {
            "tags": []
          },
          "execution_count": 130
        }
      ]
    },
    {
      "metadata": {
        "id": "9-BmMQGXFwa3",
        "colab_type": "code",
        "colab": {
          "base_uri": "https://localhost:8080/",
          "height": 54
        },
        "outputId": "c98f6b44-1c88-4dcd-bb95-60c903fafdeb"
      },
      "cell_type": "code",
      "source": [
        "encoder_bw_final_state\n"
      ],
      "execution_count": 131,
      "outputs": [
        {
          "output_type": "execute_result",
          "data": {
            "text/plain": [
              "LSTMStateTuple(c=<tf.Tensor 'bidirectional_rnn_1/bw/bw/while/Exit_3:0' shape=(?, 20) dtype=float32>, h=<tf.Tensor 'bidirectional_rnn_1/bw/bw/while/Exit_4:0' shape=(?, 20) dtype=float32>)"
            ]
          },
          "metadata": {
            "tags": []
          },
          "execution_count": 131
        }
      ]
    },
    {
      "metadata": {
        "id": "w1hT158OF0NN",
        "colab_type": "code",
        "colab": {}
      },
      "cell_type": "code",
      "source": [
        "#Concatenates tensors along one dimension.\n",
        "encoder_outputs = tf.concat((encoder_fw_outputs, encoder_bw_outputs), 2)\n",
        "\n",
        "#letters h and c are commonly used to denote \"output value\" and \"cell state\". \n",
        "#http://colah.github.io/posts/2015-08-Understanding-LSTMs/ \n",
        "#Those tensors represent combined internal state of the cell, and should be passed together. \n",
        "\n",
        "encoder_final_state_c = tf.concat(\n",
        "    (encoder_fw_final_state.c, encoder_bw_final_state.c), 1)\n",
        "\n",
        "encoder_final_state_h = tf.concat(\n",
        "    (encoder_fw_final_state.h, encoder_bw_final_state.h), 1)\n",
        "\n",
        "#TF Tuple used by LSTM Cells for state_size, zero_state, and output state.\n",
        "encoder_final_state = LSTMStateTuple(\n",
        "    c=encoder_final_state_c,\n",
        "    h=encoder_final_state_h\n",
        ")"
      ],
      "execution_count": 0,
      "outputs": []
    },
    {
      "metadata": {
        "id": "rfbCMqhdLcDU",
        "colab_type": "code",
        "colab": {}
      },
      "cell_type": "code",
      "source": [
        "decoder_cell = LSTMCell(decoder_hidden_units)\n"
      ],
      "execution_count": 0,
      "outputs": []
    },
    {
      "metadata": {
        "id": "FWyjXTBpLlLZ",
        "colab_type": "code",
        "colab": {}
      },
      "cell_type": "code",
      "source": [
        "encoder_max_time, batch_size = tf.unstack(tf.shape(encoder_inputs))\n"
      ],
      "execution_count": 0,
      "outputs": []
    },
    {
      "metadata": {
        "id": "1rQaSCC7Ln_f",
        "colab_type": "code",
        "colab": {}
      },
      "cell_type": "code",
      "source": [
        "decoder_lengths = encoder_inputs_length + 3\n"
      ],
      "execution_count": 0,
      "outputs": []
    },
    {
      "metadata": {
        "id": "YpLCpMYpLr4K",
        "colab_type": "code",
        "colab": {}
      },
      "cell_type": "code",
      "source": [
        "#manually specifying since we are going to implement attention details for the decoder in a sec\n",
        "#weights\n",
        "W = tf.Variable(tf.random_uniform([decoder_hidden_units, vocab_size], -1, 1), dtype=tf.float32)\n",
        "#bias\n",
        "b = tf.Variable(tf.zeros([vocab_size]), dtype=tf.float32)"
      ],
      "execution_count": 0,
      "outputs": []
    },
    {
      "metadata": {
        "id": "-JH64tFQLws8",
        "colab_type": "code",
        "colab": {}
      },
      "cell_type": "code",
      "source": [
        "#create padded inputs for the decoder from the word embeddings\n",
        "\n",
        "#were telling the program to test a condition, and trigger an error if the condition is false.\n",
        "assert EOS == 1 and PAD == 0\n",
        "\n",
        "eos_time_slice = tf.ones([batch_size], dtype=tf.int32, name='EOS')\n",
        "pad_time_slice = tf.zeros([batch_size], dtype=tf.int32, name='PAD')\n",
        "\n",
        "#retrieves rows of the params tensor. The behavior is similar to using indexing with arrays in numpy\n",
        "eos_step_embedded = tf.nn.embedding_lookup(embeddings, eos_time_slice)\n",
        "pad_step_embedded = tf.nn.embedding_lookup(embeddings, pad_time_slice)"
      ],
      "execution_count": 0,
      "outputs": []
    },
    {
      "metadata": {
        "id": "l4xxENRiL0gH",
        "colab_type": "code",
        "colab": {}
      },
      "cell_type": "code",
      "source": [
        "#manually specifying loop function through time - to get initial cell state and input to RNN\n",
        "#normally we'd just use dynamic_rnn, but lets get detailed here with raw_rnn\n",
        "\n",
        "#we define and return these values, no operations occur here\n",
        "def loop_fn_initial():\n",
        "    initial_elements_finished = (0 >= decoder_lengths)  # all False at the initial step\n",
        "    #end of sentence\n",
        "    initial_input = eos_step_embedded\n",
        "    #last time steps cell state\n",
        "    initial_cell_state = encoder_final_state\n",
        "    #none\n",
        "    initial_cell_output = None\n",
        "    #none\n",
        "    initial_loop_state = None  # we don't need to pass any additional information\n",
        "    return (initial_elements_finished,\n",
        "            initial_input,\n",
        "            initial_cell_state,\n",
        "            initial_cell_output,\n",
        "            initial_loop_state)"
      ],
      "execution_count": 0,
      "outputs": []
    },
    {
      "metadata": {
        "id": "CUzjsY8jL4zJ",
        "colab_type": "code",
        "colab": {}
      },
      "cell_type": "code",
      "source": [
        "#attention mechanism --choose which previously generated token to pass as input in the next timestep\n",
        "def loop_fn_transition(time, previous_output, previous_state, previous_loop_state):\n",
        "\n",
        "    \n",
        "    def get_next_input():\n",
        "        #dot product between previous ouput and weights, then + biases\n",
        "        output_logits = tf.add(tf.matmul(previous_output, W), b)\n",
        "        #Logits simply means that the function operates on the unscaled output of \n",
        "        #earlier layers and that the relative scale to understand the units is linear. \n",
        "        #It means, in particular, the sum of the inputs may not equal 1, that the values are not probabilities \n",
        "        #(you might have an input of 5).\n",
        "        #prediction value at current time step\n",
        "        \n",
        "        #Returns the index with the largest value across axes of a tensor.\n",
        "        prediction = tf.argmax(output_logits, axis=1)\n",
        "        #embed prediction for the next input\n",
        "        next_input = tf.nn.embedding_lookup(embeddings, prediction)\n",
        "        return next_input\n",
        "    \n",
        "    \n",
        "    elements_finished = (time >= decoder_lengths) # this operation produces boolean tensor of [batch_size]\n",
        "                                                  # defining if corresponding sequence has ended\n",
        "\n",
        "    \n",
        "    \n",
        "    #Computes the \"logical and\" of elements across dimensions of a tensor.\n",
        "    finished = tf.reduce_all(elements_finished) # -> boolean scalar\n",
        "    #Return either fn1() or fn2() based on the boolean predicate pred.\n",
        "    input = tf.cond(finished, lambda: pad_step_embedded, get_next_input)\n",
        "    \n",
        "    #set previous to current\n",
        "    state = previous_state\n",
        "    output = previous_output\n",
        "    loop_state = None\n",
        "\n",
        "    return (elements_finished, \n",
        "            input,\n",
        "            state,\n",
        "            output,\n",
        "            loop_state)"
      ],
      "execution_count": 0,
      "outputs": []
    },
    {
      "metadata": {
        "id": "7bfM9-hiL_3F",
        "colab_type": "code",
        "colab": {}
      },
      "cell_type": "code",
      "source": [
        "def loop_fn(time, previous_output, previous_state, previous_loop_state):\n",
        "    if previous_state is None:    # time == 0\n",
        "        assert previous_output is None and previous_state is None\n",
        "        return loop_fn_initial()\n",
        "    else:\n",
        "        return loop_fn_transition(time, previous_output, previous_state, previous_loop_state)\n",
        "\n",
        "#Creates an RNN specified by RNNCell cell and loop function loop_fn.\n",
        "#This function is a more primitive version of dynamic_rnn that provides more direct access to the \n",
        "#inputs each iteration. It also provides more control over when to start and finish reading the sequence, \n",
        "#and what to emit for the output.\n",
        "#ta = tensor array\n",
        "decoder_outputs_ta, decoder_final_state, _ = tf.nn.raw_rnn(decoder_cell, loop_fn)\n",
        "decoder_outputs = decoder_outputs_ta.stack()"
      ],
      "execution_count": 0,
      "outputs": []
    },
    {
      "metadata": {
        "id": "lj2HmYgEMDyq",
        "colab_type": "code",
        "colab": {
          "base_uri": "https://localhost:8080/",
          "height": 34
        },
        "outputId": "3605094c-114f-470e-d329-62a9b3aa39f4"
      },
      "cell_type": "code",
      "source": [
        "decoder_outputs\n"
      ],
      "execution_count": 141,
      "outputs": [
        {
          "output_type": "execute_result",
          "data": {
            "text/plain": [
              "<tf.Tensor 'TensorArrayStack/TensorArrayGatherV3:0' shape=(?, ?, 40) dtype=float32>"
            ]
          },
          "metadata": {
            "tags": []
          },
          "execution_count": 141
        }
      ]
    },
    {
      "metadata": {
        "id": "O3VhGeofMGyl",
        "colab_type": "code",
        "colab": {}
      },
      "cell_type": "code",
      "source": [
        "#to convert output to human readable prediction\n",
        "#we will reshape output tensor\n",
        "\n",
        "#Unpacks the given dimension of a rank-R tensor into rank-(R-1) tensors.\n",
        "#reduces dimensionality\n",
        "decoder_max_steps, decoder_batch_size, decoder_dim = tf.unstack(tf.shape(decoder_outputs))\n",
        "#flettened output tensor\n",
        "decoder_outputs_flat = tf.reshape(decoder_outputs, (-1, decoder_dim))\n",
        "#pass flattened tensor through decoder\n",
        "decoder_logits_flat = tf.add(tf.matmul(decoder_outputs_flat, W), b)\n",
        "#prediction vals\n",
        "decoder_logits = tf.reshape(decoder_logits_flat, (decoder_max_steps, decoder_batch_size, vocab_size))"
      ],
      "execution_count": 0,
      "outputs": []
    },
    {
      "metadata": {
        "id": "movfmUPBMLCv",
        "colab_type": "code",
        "colab": {}
      },
      "cell_type": "code",
      "source": [
        "decoder_prediction = tf.argmax(decoder_logits, 2)\n"
      ],
      "execution_count": 0,
      "outputs": []
    },
    {
      "metadata": {
        "id": "rBA1FpEQMOYn",
        "colab_type": "code",
        "colab": {}
      },
      "cell_type": "code",
      "source": [
        "#cross entropy loss\n",
        "#one hot encode the target values so we don't rank just differentiate\n",
        "stepwise_cross_entropy = tf.nn.softmax_cross_entropy_with_logits(\n",
        "    labels=tf.one_hot(decoder_targets, depth=vocab_size, dtype=tf.float32),\n",
        "    logits=decoder_logits,\n",
        ")\n",
        "\n",
        "#loss function\n",
        "loss = tf.reduce_mean(stepwise_cross_entropy)\n",
        "#train it \n",
        "train_op = tf.train.AdamOptimizer().minimize(loss)"
      ],
      "execution_count": 0,
      "outputs": []
    },
    {
      "metadata": {
        "id": "Yfx1cwemMSLt",
        "colab_type": "code",
        "colab": {}
      },
      "cell_type": "code",
      "source": [
        "sess.run(tf.global_variables_initializer())\n"
      ],
      "execution_count": 0,
      "outputs": []
    },
    {
      "metadata": {
        "id": "DoZrk91CMW0Q",
        "colab_type": "code",
        "colab": {
          "base_uri": "https://localhost:8080/",
          "height": 202
        },
        "outputId": "a0c090e8-0278-4b0c-d9fd-f43ccba2f5c8"
      },
      "cell_type": "code",
      "source": [
        "batch_size = 100\n",
        "\n",
        "batches = random_sequences(length_from=3, length_to=8,\n",
        "                                   vocab_lower=2, vocab_upper=10,\n",
        "                                   batch_size=batch_size)\n",
        "\n",
        "print('head of the batch:')\n",
        "for seq in next(batches)[:10]:\n",
        "    print(seq)"
      ],
      "execution_count": 146,
      "outputs": [
        {
          "output_type": "stream",
          "text": [
            "head of the batch:\n",
            "[2, 2, 3, 3, 5]\n",
            "[2, 2, 6]\n",
            "[5, 6, 5, 5, 7, 7]\n",
            "[3, 4, 3, 4, 6]\n",
            "[7, 9, 9]\n",
            "[8, 4, 3]\n",
            "[3, 2, 6, 3, 6]\n",
            "[7, 3, 3, 4, 6]\n",
            "[7, 2, 8, 8, 4, 8, 7, 9]\n",
            "[9, 8, 9, 8, 7, 7, 8, 4]\n"
          ],
          "name": "stdout"
        }
      ]
    },
    {
      "metadata": {
        "id": "-0U_awRbMqgD",
        "colab_type": "code",
        "colab": {}
      },
      "cell_type": "code",
      "source": [
        "def next_feed():\n",
        "    batch = next(batches)\n",
        "    encoder_inputs_, encoder_input_lengths_ = batchfunc(batch)\n",
        "    decoder_targets_, _ = batchfunc(\n",
        "        [(sequence) + [EOS] + [PAD] * 2 for sequence in batch]\n",
        "    )\n",
        "    return {\n",
        "        encoder_inputs: encoder_inputs_,\n",
        "        encoder_inputs_length: encoder_input_lengths_,\n",
        "        decoder_targets: decoder_targets_,\n",
        "    }"
      ],
      "execution_count": 0,
      "outputs": []
    },
    {
      "metadata": {
        "id": "uPjTewqLwfu9",
        "colab_type": "code",
        "colab": {}
      },
      "cell_type": "code",
      "source": [
        "def data():\n",
        "  l= ['KA 00QD 9818', 'KA 00JE 5855', 'KA 00XR 7470', 'KA 00FB 4471', 'KA 00HD 3350', 'KA 00SQ 6691', 'KA 00KY 1656', 'KA 00OB 6248', 'KA 00DH 3249', 'KA 00NU 6548', 'KA 00TD 1234', 'KA 00HF 9965', 'KA 00UA 2870', 'KA 00AI 7186', 'KA 00KH 1017', 'KA 00SQ 5150', 'KA 00CF 1394', 'KA 00RU 4853', 'KA 00QZ 3878', 'KA 00NK 5513', 'KA 00MK 6173', 'KA 00FE 9960', 'KA 00BM 5125', 'KA 00EF 7988', 'KA 00PS 3872', 'KA 00GL 6489', 'KA 00KI 9047', 'KA 00QJ 1353', 'KA 00SW 4104', 'KA 00JN 7287', 'KA 00RK 9466', 'KA 00TY 1971', 'KA 00HT 2756', 'KA 00TJ 6252', 'KA 00QF 6317', 'KA 00XY 8464', 'KA 00FL 6326', 'KA 00WP 3812', 'KA 00FG 6695', 'KA 00PJ 4524', 'KA 00IS 8354', 'KA 00OM 5336', 'KA 00OH 8873', 'KA 00YD 6503', 'KA 00IP 9105', 'KA 00BU 4907', 'KA 00XH 4337', 'KA 00NL 9638', 'KA 00XY 7673', 'KA 00NL 5628', 'KA 00EZ 6035', 'KA 00TF 6067', 'KA 00IX 6514', 'KA 00VV 2762', 'KA 00NU 3907', 'KA 00KZ 2003', 'KA 00EP 3653', 'KA 00PK 5655', 'KA 00WX 2753', 'KA 00JN 4884', 'KA 00HY 7818', 'KA 00HJ 8002', 'KA 00VN 1024', 'KA 00VS 8590', 'KA 00GX 1006', 'KA 00QY 2869', 'KA 00DU 7176', 'KA 00SE 8715', 'KA 00IW 8819', 'KA 00MI 5216', 'KA 00YN 3990', 'KA 00UU 3933', 'KA 00GV 4125', 'KA 00IL 7715', 'KA 00KG 5668', 'KA 00WA 2558', 'KA 00AL 7440', 'KA 00ZX 2307', 'KA 00KI 2703', 'KA 00VT 8125', 'KA 00PD 3692', 'KA 00GQ 4829', 'KA 00IT 6652', 'KA 00QL 7479', 'KA 00OH 8055', 'KA 00EJ 9298', 'KA 00NC 8814', 'KA 00EN 3528', 'KA 00RZ 4556', 'KA 00PY 4990', 'KA 00AO 1558', 'KA 00QN 9085', 'KA 00BU 1224', 'KA 00TX 3495', 'KA 00WQ 4007', 'KA 00VQ 5644', 'KA 00YE 4571', 'KA 00AH 6746', 'KA 00ZO 2840', 'KA 00RS 9755']\n",
        "  encoder_inputs_, encoder_input_lengths_=batchfunc(l)\n",
        "  decoder_targets_, _ = batchfunc(\n",
        "        [(sequence) + [EOS] + [PAD] * 2 for sequence in l]\n",
        "  )\n",
        "  return {\n",
        "        encoder_inputs: encoder_inputs_,\n",
        "        encoder_inputs_length: encoder_input_lengths_,\n",
        "        decoder_targets: decoder_targets_,\n",
        "    }\n",
        "\n"
      ],
      "execution_count": 0,
      "outputs": []
    },
    {
      "metadata": {
        "id": "2_rUDlcFMxo8",
        "colab_type": "code",
        "colab": {}
      },
      "cell_type": "code",
      "source": [
        "loss_track = []\n"
      ],
      "execution_count": 0,
      "outputs": []
    },
    {
      "metadata": {
        "id": "xoxMSADIM17a",
        "colab_type": "code",
        "colab": {
          "base_uri": "https://localhost:8080/",
          "height": 823
        },
        "outputId": "4453f29e-f4b1-4d3d-8225-5e8c0584dacd"
      },
      "cell_type": "code",
      "source": [
        "max_batches = 3001\n",
        "batches_in_epoch = 1000\n",
        "\n",
        "try:\n",
        "    for batch in range(max_batches):\n",
        "        fd = next_feed()\n",
        "        _, l = sess.run([train_op, loss], fd)\n",
        "        loss_track.append(l)\n",
        "\n",
        "        if batch == 0 or batch % batches_in_epoch == 0:\n",
        "            print('batch {}'.format(batch))\n",
        "            print('  minibatch loss: {}'.format(sess.run(loss, fd)))\n",
        "            predict_ = sess.run(decoder_prediction, fd)\n",
        "            for i, (inp, pred) in enumerate(zip(fd[encoder_inputs].T, predict_.T)):\n",
        "                print('  sample {}:'.format(i + 1))\n",
        "                print('    input     > {}'.format(inp))\n",
        "                print('    predicted > {}'.format(pred))\n",
        "                if i >= 2:\n",
        "                    break\n",
        "            print()\n",
        "\n",
        "except KeyboardInterrupt:\n",
        "    print('training interrupted')"
      ],
      "execution_count": 152,
      "outputs": [
        {
          "output_type": "stream",
          "text": [
            "batch 0\n",
            "  minibatch loss: 0.011218609288334846\n",
            "  sample 1:\n",
            "    input     > [4 9 5 0 0 0 0 0]\n",
            "    predicted > [4 9 5 1 0 0 0 0 0 0 0]\n",
            "  sample 2:\n",
            "    input     > [7 8 2 4 6 8 5 5]\n",
            "    predicted > [7 8 2 4 6 8 5 5 1 0 0]\n",
            "  sample 3:\n",
            "    input     > [8 4 7 0 0 0 0 0]\n",
            "    predicted > [8 4 7 1 0 0 0 0 0 0 0]\n",
            "\n",
            "batch 1000\n",
            "  minibatch loss: 0.007707471027970314\n",
            "  sample 1:\n",
            "    input     > [6 6 3 9 0 0 0 0]\n",
            "    predicted > [6 6 3 9 1 0 0 0 0 0 0]\n",
            "  sample 2:\n",
            "    input     > [6 5 6 8 6 0 0 0]\n",
            "    predicted > [6 5 6 8 6 1 0 0 0 0 0]\n",
            "  sample 3:\n",
            "    input     > [2 2 5 7 3 4 7 2]\n",
            "    predicted > [2 2 5 7 3 4 7 2 1 0 0]\n",
            "\n",
            "batch 2000\n",
            "  minibatch loss: 0.005945148877799511\n",
            "  sample 1:\n",
            "    input     > [5 8 6 0 0 0 0 0]\n",
            "    predicted > [5 8 6 1 0 0 0 0 0 0 0]\n",
            "  sample 2:\n",
            "    input     > [7 7 6 6 0 0 0 0]\n",
            "    predicted > [7 7 6 6 1 0 0 0 0 0 0]\n",
            "  sample 3:\n",
            "    input     > [3 5 2 9 8 0 0 0]\n",
            "    predicted > [3 5 2 9 8 1 0 0 0 0 0]\n",
            "\n",
            "batch 3000\n",
            "  minibatch loss: 0.008481381461024284\n",
            "  sample 1:\n",
            "    input     > [8 9 3 2 4 6 7 0]\n",
            "    predicted > [8 9 3 2 4 6 7 1 0 0 0]\n",
            "  sample 2:\n",
            "    input     > [2 9 5 3 5 0 0 0]\n",
            "    predicted > [2 9 5 3 5 1 0 0 0 0 0]\n",
            "  sample 3:\n",
            "    input     > [2 8 5 9 3 0 0 0]\n",
            "    predicted > [2 8 5 9 3 1 0 0 0 0 0]\n",
            "\n"
          ],
          "name": "stdout"
        }
      ]
    },
    {
      "metadata": {
        "id": "kIpBTo9hM6L-",
        "colab_type": "code",
        "colab": {
          "base_uri": "https://localhost:8080/",
          "height": 282
        },
        "outputId": "291c87d7-c1f3-489f-dbb2-891152414933"
      },
      "cell_type": "code",
      "source": [
        "%matplotlib inline\n",
        "import matplotlib.pyplot as plt\n",
        "plt.plot(loss_track)\n",
        "print('loss {:.4f} after {} examples (batch_size={})'.format(loss_track[-1], len(loss_track)*batch_size, batch_size))"
      ],
      "execution_count": 150,
      "outputs": [
        {
          "output_type": "stream",
          "text": [
            "loss 0.1317 after 300100 examples (batch_size=100)\n"
          ],
          "name": "stdout"
        },
        {
          "output_type": "display_data",
          "data": {
            "image/png": "[encoded data removed]",
            "text/plain": [
              "<matplotlib.figure.Figure at 0x7fa90ce5aba8>"
            ]
          },
          "metadata": {
            "tags": []
          }
        }
      ]
    },
    {
      "metadata": {
        "id": "Z14UnvfY0TGx",
        "colab_type": "code",
        "colab": {
          "base_uri": "https://localhost:8080/",
          "height": 484
        },
        "outputId": "bfca2925-091e-498c-ec0b-9c9605158b8f"
      },
      "cell_type": "code",
      "source": [
        "max_batches = 3001\n",
        "batches_in_epoch = 1000\n",
        "\n",
        "try:\n",
        "    for batch in range(max_batches):\n",
        "        fd = data()\n",
        "        _, l = sess.run([train_op, loss], fd)\n",
        "        loss_track.append(l)\n",
        "\n",
        "        if batch == 0 or batch % batches_in_epoch == 0:\n",
        "            print('batch {}'.format(batch))\n",
        "            print('  minibatch loss: {}'.format(sess.run(loss, fd)))\n",
        "            predict_ = sess.run(decoder_prediction, fd)\n",
        "            for i, (inp, pred) in enumerate(zip(fd[encoder_inputs].T, predict_.T)):\n",
        "                print('  sample {}:'.format(i + 1))\n",
        "                print('    input     > {}'.format(inp))\n",
        "                print('    predicted > {}'.format(pred))\n",
        "                if i >= 2:\n",
        "                    break\n",
        "            print()\n",
        "\n",
        "except KeyboardInterrupt:\n",
        "    print('training interrupted')"
      ],
      "execution_count": 157,
      "outputs": [
        {
          "output_type": "error",
          "ename": "ValueError",
          "evalue": "ignored",
          "traceback": [
            "\u001b[0;31m---------------------------------------------------------------------------\u001b[0m",
            "\u001b[0;31mValueError\u001b[0m                                Traceback (most recent call last)",
            "\u001b[0;32m<ipython-input-157-03c6dfdedb9a>\u001b[0m in \u001b[0;36m<module>\u001b[0;34m()\u001b[0m\n\u001b[1;32m      4\u001b[0m \u001b[0;32mtry\u001b[0m\u001b[0;34m:\u001b[0m\u001b[0;34m\u001b[0m\u001b[0;34m\u001b[0m\u001b[0m\n\u001b[1;32m      5\u001b[0m     \u001b[0;32mfor\u001b[0m \u001b[0mbatch\u001b[0m \u001b[0;32min\u001b[0m \u001b[0mrange\u001b[0m\u001b[0;34m(\u001b[0m\u001b[0mmax_batches\u001b[0m\u001b[0;34m)\u001b[0m\u001b[0;34m:\u001b[0m\u001b[0;34m\u001b[0m\u001b[0;34m\u001b[0m\u001b[0m\n\u001b[0;32m----> 6\u001b[0;31m         \u001b[0mfd\u001b[0m \u001b[0;34m=\u001b[0m \u001b[0mdata\u001b[0m\u001b[0;34m(\u001b[0m\u001b[0;34m)\u001b[0m\u001b[0;34m\u001b[0m\u001b[0;34m\u001b[0m\u001b[0m\n\u001b[0m\u001b[1;32m      7\u001b[0m         \u001b[0m_\u001b[0m\u001b[0;34m,\u001b[0m \u001b[0ml\u001b[0m \u001b[0;34m=\u001b[0m \u001b[0msess\u001b[0m\u001b[0;34m.\u001b[0m\u001b[0mrun\u001b[0m\u001b[0;34m(\u001b[0m\u001b[0;34m[\u001b[0m\u001b[0mtrain_op\u001b[0m\u001b[0;34m,\u001b[0m \u001b[0mloss\u001b[0m\u001b[0;34m]\u001b[0m\u001b[0;34m,\u001b[0m \u001b[0mfd\u001b[0m\u001b[0;34m)\u001b[0m\u001b[0;34m\u001b[0m\u001b[0;34m\u001b[0m\u001b[0m\n\u001b[1;32m      8\u001b[0m         \u001b[0mloss_track\u001b[0m\u001b[0;34m.\u001b[0m\u001b[0mappend\u001b[0m\u001b[0;34m(\u001b[0m\u001b[0ml\u001b[0m\u001b[0;34m)\u001b[0m\u001b[0;34m\u001b[0m\u001b[0;34m\u001b[0m\u001b[0m\n",
            "\u001b[0;32m<ipython-input-154-b5f3d34aac64>\u001b[0m in \u001b[0;36mdata\u001b[0;34m()\u001b[0m\n\u001b[1;32m      1\u001b[0m \u001b[0;32mdef\u001b[0m \u001b[0mdata\u001b[0m\u001b[0;34m(\u001b[0m\u001b[0;34m)\u001b[0m\u001b[0;34m:\u001b[0m\u001b[0;34m\u001b[0m\u001b[0;34m\u001b[0m\u001b[0m\n\u001b[1;32m      2\u001b[0m   \u001b[0ml\u001b[0m\u001b[0;34m=\u001b[0m \u001b[0;34m[\u001b[0m\u001b[0;34m'KA 00QD 9818'\u001b[0m\u001b[0;34m,\u001b[0m \u001b[0;34m'KA 00JE 5855'\u001b[0m\u001b[0;34m,\u001b[0m \u001b[0;34m'KA 00XR 7470'\u001b[0m\u001b[0;34m,\u001b[0m \u001b[0;34m'KA 00FB 4471'\u001b[0m\u001b[0;34m,\u001b[0m \u001b[0;34m'KA 00HD 3350'\u001b[0m\u001b[0;34m,\u001b[0m \u001b[0;34m'KA 00SQ 6691'\u001b[0m\u001b[0;34m,\u001b[0m \u001b[0;34m'KA 00KY 1656'\u001b[0m\u001b[0;34m,\u001b[0m \u001b[0;34m'KA 00OB 6248'\u001b[0m\u001b[0;34m,\u001b[0m \u001b[0;34m'KA 00DH 3249'\u001b[0m\u001b[0;34m,\u001b[0m \u001b[0;34m'KA 00NU 6548'\u001b[0m\u001b[0;34m,\u001b[0m \u001b[0;34m'KA 00TD 1234'\u001b[0m\u001b[0;34m,\u001b[0m \u001b[0;34m'KA 00HF 9965'\u001b[0m\u001b[0;34m,\u001b[0m \u001b[0;34m'KA 00UA 2870'\u001b[0m\u001b[0;34m,\u001b[0m \u001b[0;34m'KA 00AI 7186'\u001b[0m\u001b[0;34m,\u001b[0m \u001b[0;34m'KA 00KH 1017'\u001b[0m\u001b[0;34m,\u001b[0m \u001b[0;34m'KA 00SQ 5150'\u001b[0m\u001b[0;34m,\u001b[0m \u001b[0;34m'KA 00CF 1394'\u001b[0m\u001b[0;34m,\u001b[0m \u001b[0;34m'KA 00RU 4853'\u001b[0m\u001b[0;34m,\u001b[0m \u001b[0;34m'KA 00QZ 3878'\u001b[0m\u001b[0;34m,\u001b[0m \u001b[0;34m'KA 00NK 5513'\u001b[0m\u001b[0;34m,\u001b[0m \u001b[0;34m'KA 00MK 6173'\u001b[0m\u001b[0;34m,\u001b[0m \u001b[0;34m'KA 00FE 9960'\u001b[0m\u001b[0;34m,\u001b[0m \u001b[0;34m'KA 00BM 5125'\u001b[0m\u001b[0;34m,\u001b[0m \u001b[0;34m'KA 00EF 7988'\u001b[0m\u001b[0;34m,\u001b[0m \u001b[0;34m'KA 00PS 3872'\u001b[0m\u001b[0;34m,\u001b[0m \u001b[0;34m'KA 00GL 6489'\u001b[0m\u001b[0;34m,\u001b[0m \u001b[0;34m'KA 00KI 9047'\u001b[0m\u001b[0;34m,\u001b[0m \u001b[0;34m'KA 00QJ 1353'\u001b[0m\u001b[0;34m,\u001b[0m \u001b[0;34m'KA 00SW 4104'\u001b[0m\u001b[0;34m,\u001b[0m \u001b[0;34m'KA 00JN 7287'\u001b[0m\u001b[0;34m,\u001b[0m \u001b[0;34m'KA 00RK 9466'\u001b[0m\u001b[0;34m,\u001b[0m \u001b[0;34m'KA 00TY 1971'\u001b[0m\u001b[0;34m,\u001b[0m \u001b[0;34m'KA 00HT 2756'\u001b[0m\u001b[0;34m,\u001b[0m \u001b[0;34m'KA 00TJ 6252'\u001b[0m\u001b[0;34m,\u001b[0m \u001b[0;34m'KA 00QF 6317'\u001b[0m\u001b[0;34m,\u001b[0m \u001b[0;34m'KA 00XY 8464'\u001b[0m\u001b[0;34m,\u001b[0m \u001b[0;34m'KA 00FL 6326'\u001b[0m\u001b[0;34m,\u001b[0m \u001b[0;34m'KA 00WP 3812'\u001b[0m\u001b[0;34m,\u001b[0...\n\u001b[0;32m----> 3\u001b[0;31m   \u001b[0mencoder_inputs_\u001b[0m\u001b[0;34m,\u001b[0m \u001b[0mencoder_input_lengths_\u001b[0m\u001b[0;34m=\u001b[0m\u001b[0mbatchfunc\u001b[0m\u001b[0;34m(\u001b[0m\u001b[0ml\u001b[0m\u001b[0;34m)\u001b[0m\u001b[0;34m\u001b[0m\u001b[0;34m\u001b[0m\u001b[0m\n\u001b[0m\u001b[1;32m      4\u001b[0m   decoder_targets_, _ = batchfunc(\n\u001b[1;32m      5\u001b[0m         \u001b[0;34m[\u001b[0m\u001b[0;34m(\u001b[0m\u001b[0msequence\u001b[0m\u001b[0;34m)\u001b[0m \u001b[0;34m+\u001b[0m \u001b[0;34m[\u001b[0m\u001b[0mEOS\u001b[0m\u001b[0;34m]\u001b[0m \u001b[0;34m+\u001b[0m \u001b[0;34m[\u001b[0m\u001b[0mPAD\u001b[0m\u001b[0;34m]\u001b[0m \u001b[0;34m*\u001b[0m \u001b[0;36m2\u001b[0m \u001b[0;32mfor\u001b[0m \u001b[0msequence\u001b[0m \u001b[0;32min\u001b[0m \u001b[0ml\u001b[0m\u001b[0;34m]\u001b[0m\u001b[0;34m\u001b[0m\u001b[0;34m\u001b[0m\u001b[0m\n",
            "\u001b[0;32m<ipython-input-119-18958beb4110>\u001b[0m in \u001b[0;36mbatchfunc\u001b[0;34m(inputs, max_sequence_length)\u001b[0m\n\u001b[1;32m     30\u001b[0m     \u001b[0;32mfor\u001b[0m \u001b[0mi\u001b[0m\u001b[0;34m,\u001b[0m \u001b[0mseq\u001b[0m \u001b[0;32min\u001b[0m \u001b[0menumerate\u001b[0m\u001b[0;34m(\u001b[0m\u001b[0minputs\u001b[0m\u001b[0;34m)\u001b[0m\u001b[0;34m:\u001b[0m\u001b[0;34m\u001b[0m\u001b[0;34m\u001b[0m\u001b[0m\n\u001b[1;32m     31\u001b[0m         \u001b[0;32mfor\u001b[0m \u001b[0mj\u001b[0m\u001b[0;34m,\u001b[0m \u001b[0melement\u001b[0m \u001b[0;32min\u001b[0m \u001b[0menumerate\u001b[0m\u001b[0;34m(\u001b[0m\u001b[0mseq\u001b[0m\u001b[0;34m)\u001b[0m\u001b[0;34m:\u001b[0m\u001b[0;34m\u001b[0m\u001b[0;34m\u001b[0m\u001b[0m\n\u001b[0;32m---> 32\u001b[0;31m             \u001b[0minputs_batch_major\u001b[0m\u001b[0;34m[\u001b[0m\u001b[0mi\u001b[0m\u001b[0;34m,\u001b[0m \u001b[0mj\u001b[0m\u001b[0;34m]\u001b[0m \u001b[0;34m=\u001b[0m \u001b[0melement\u001b[0m\u001b[0;34m\u001b[0m\u001b[0;34m\u001b[0m\u001b[0m\n\u001b[0m\u001b[1;32m     33\u001b[0m \u001b[0;34m\u001b[0m\u001b[0m\n\u001b[1;32m     34\u001b[0m     \u001b[0;31m# [batch_size, max_time] -> [max_time, batch_size]\u001b[0m\u001b[0;34m\u001b[0m\u001b[0;34m\u001b[0m\u001b[0;34m\u001b[0m\u001b[0m\n",
            "\u001b[0;31mValueError\u001b[0m: invalid literal for int() with base 10: 'K'"
          ]
        }
      ]
    },
    {
      "metadata": {
        "id": "_FaCN6Dc2aFg",
        "colab_type": "code",
        "colab": {}
      },
      "cell_type": "code",
      "source": [
        ""
      ],
      "execution_count": 0,
      "outputs": []
    }
  ]
}